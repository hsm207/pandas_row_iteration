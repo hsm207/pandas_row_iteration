{
 "cells": [
  {
   "cell_type": "markdown",
   "metadata": {
    "toc": true
   },
   "source": [
    "<h1>Table of Contents<span class=\"tocSkip\"></span></h1>\n",
    "<div class=\"toc\" style=\"margin-top: 1em;\"><ul class=\"toc-item\"><li><span><a href=\"#System-Information\" data-toc-modified-id=\"System-Information-1\"><span class=\"toc-item-num\">1&nbsp;&nbsp;</span>System Information</a></span></li><li><span><a href=\"#Libraries\" data-toc-modified-id=\"Libraries-2\"><span class=\"toc-item-num\">2&nbsp;&nbsp;</span>Libraries</a></span></li><li><span><a href=\"#Sequential-Solution\" data-toc-modified-id=\"Sequential-Solution-3\"><span class=\"toc-item-num\">3&nbsp;&nbsp;</span>Sequential Solution</a></span></li><li><span><a href=\"#Parallel-Solution\" data-toc-modified-id=\"Parallel-Solution-4\"><span class=\"toc-item-num\">4&nbsp;&nbsp;</span>Parallel Solution</a></span></li><li><span><a href=\"#Timings\" data-toc-modified-id=\"Timings-5\"><span class=\"toc-item-num\">5&nbsp;&nbsp;</span>Timings</a></span></li><li><span><a href=\"#Function-Profiling\" data-toc-modified-id=\"Function-Profiling-6\"><span class=\"toc-item-num\">6&nbsp;&nbsp;</span>Function Profiling</a></span></li><li><span><a href=\"#Line-Profiler\" data-toc-modified-id=\"Line-Profiler-7\"><span class=\"toc-item-num\">7&nbsp;&nbsp;</span>Line Profiler</a></span></li></ul></div>"
   ]
  },
  {
   "cell_type": "markdown",
   "metadata": {},
   "source": [
    "# System Information"
   ]
  },
  {
   "cell_type": "code",
   "execution_count": 1,
   "metadata": {},
   "outputs": [],
   "source": [
    "import sys"
   ]
  },
  {
   "cell_type": "code",
   "execution_count": 2,
   "metadata": {},
   "outputs": [
    {
     "data": {
      "text/plain": [
       "'3.7.3 (default, Apr 24 2019, 15:29:51) [MSC v.1915 64 bit (AMD64)]'"
      ]
     },
     "execution_count": 2,
     "metadata": {},
     "output_type": "execute_result"
    }
   ],
   "source": [
    "sys.version"
   ]
  },
  {
   "cell_type": "markdown",
   "metadata": {},
   "source": [
    "# Libraries"
   ]
  },
  {
   "cell_type": "code",
   "execution_count": 3,
   "metadata": {},
   "outputs": [],
   "source": [
    "import pandas as pd\n",
    "from collections import defaultdict\n",
    "\n",
    "import string\n",
    "import numpy as np"
   ]
  },
  {
   "cell_type": "code",
   "execution_count": 4,
   "metadata": {},
   "outputs": [],
   "source": [
    "import dask.bag as db\n",
    "from dask.distributed import Client"
   ]
  },
  {
   "cell_type": "code",
   "execution_count": 5,
   "metadata": {},
   "outputs": [],
   "source": [
    "import line_profiler"
   ]
  },
  {
   "cell_type": "code",
   "execution_count": 6,
   "metadata": {},
   "outputs": [],
   "source": [
    "%load_ext line_profiler"
   ]
  },
  {
   "cell_type": "markdown",
   "metadata": {},
   "source": [
    "# Sequential Solution"
   ]
  },
  {
   "cell_type": "code",
   "execution_count": 7,
   "metadata": {
    "pycharm": {
     "is_executing": true
    }
   },
   "outputs": [
    {
     "data": {
      "text/html": [
       "<div>\n",
       "<style scoped>\n",
       "    .dataframe tbody tr th:only-of-type {\n",
       "        vertical-align: middle;\n",
       "    }\n",
       "\n",
       "    .dataframe tbody tr th {\n",
       "        vertical-align: top;\n",
       "    }\n",
       "\n",
       "    .dataframe thead th {\n",
       "        text-align: right;\n",
       "    }\n",
       "</style>\n",
       "<table border=\"1\" class=\"dataframe\">\n",
       "  <thead>\n",
       "    <tr style=\"text-align: right;\">\n",
       "      <th></th>\n",
       "      <th>col1</th>\n",
       "      <th>col2</th>\n",
       "      <th>col3</th>\n",
       "    </tr>\n",
       "  </thead>\n",
       "  <tbody>\n",
       "    <tr>\n",
       "      <th>0</th>\n",
       "      <td>A</td>\n",
       "      <td>a</td>\n",
       "      <td>1</td>\n",
       "    </tr>\n",
       "    <tr>\n",
       "      <th>1</th>\n",
       "      <td>B</td>\n",
       "      <td>a</td>\n",
       "      <td>1</td>\n",
       "    </tr>\n",
       "    <tr>\n",
       "      <th>2</th>\n",
       "      <td>A</td>\n",
       "      <td>a</td>\n",
       "      <td>5</td>\n",
       "    </tr>\n",
       "    <tr>\n",
       "      <th>3</th>\n",
       "      <td>A</td>\n",
       "      <td>c</td>\n",
       "      <td>4</td>\n",
       "    </tr>\n",
       "    <tr>\n",
       "      <th>4</th>\n",
       "      <td>C</td>\n",
       "      <td>z</td>\n",
       "      <td>1</td>\n",
       "    </tr>\n",
       "  </tbody>\n",
       "</table>\n",
       "</div>"
      ],
      "text/plain": [
       "  col1 col2  col3\n",
       "0    A    a     1\n",
       "1    B    a     1\n",
       "2    A    a     5\n",
       "3    A    c     4\n",
       "4    C    z     1"
      ]
     },
     "execution_count": 7,
     "metadata": {},
     "output_type": "execute_result"
    }
   ],
   "source": [
    "col1 = [\"A\", \"B\", \"A\", \"A\", \"C\"]\n",
    "col2 = [\"a\", \"a\", \"a\", \"c\", \"z\"]\n",
    "col3 = [1, 1, 5, 4, 1]\n",
    "\n",
    "df = pd.DataFrame({\n",
    "    \"col1\": col1,\n",
    "    \"col2\": col2,\n",
    "    \"col3\": col3\n",
    "})\n",
    "\n",
    "df"
   ]
  },
  {
   "cell_type": "code",
   "execution_count": 8,
   "metadata": {
    "pycharm": {
     "is_executing": true
    }
   },
   "outputs": [],
   "source": [
    "total = defaultdict(lambda : defaultdict(int))\n",
    "\n",
    "for i, (col1, col2, col3) in df.iterrows():\n",
    "    total[col1][col2] += col3"
   ]
  },
  {
   "cell_type": "code",
   "execution_count": 9,
   "metadata": {
    "pycharm": {
     "is_executing": true
    }
   },
   "outputs": [
    {
     "name": "stdout",
     "output_type": "stream",
     "text": [
      "A, a: 6\n",
      "A, c: 4\n",
      "B, a: 1\n",
      "C, z: 1\n"
     ]
    }
   ],
   "source": [
    "for key, subkeys in total.items():\n",
    "    for subkey, value in subkeys.items():\n",
    "        print(f\"{key}, {subkey}: {value}\")"
   ]
  },
  {
   "cell_type": "markdown",
   "metadata": {},
   "source": [
    "# Parallel Solution"
   ]
  },
  {
   "cell_type": "markdown",
   "metadata": {},
   "source": [
    "Create a cluster:"
   ]
  },
  {
   "cell_type": "code",
   "execution_count": 10,
   "metadata": {
    "pycharm": {
     "is_executing": true
    }
   },
   "outputs": [
    {
     "data": {
      "text/html": [
       "<table style=\"border: 2px solid white;\">\n",
       "<tr>\n",
       "<td style=\"vertical-align: top; border: 0px solid white\">\n",
       "<h3>Client</h3>\n",
       "<ul>\n",
       "  <li><b>Scheduler: </b>tcp://127.0.0.1:52646\n",
       "  <li><b>Dashboard: </b><a href='http://127.0.0.1:8787/status' target='_blank'>http://127.0.0.1:8787/status</a>\n",
       "</ul>\n",
       "</td>\n",
       "<td style=\"vertical-align: top; border: 0px solid white\">\n",
       "<h3>Cluster</h3>\n",
       "<ul>\n",
       "  <li><b>Workers: </b>4</li>\n",
       "  <li><b>Cores: </b>4</li>\n",
       "  <li><b>Memory: </b>17.05 GB</li>\n",
       "</ul>\n",
       "</td>\n",
       "</tr>\n",
       "</table>"
      ],
      "text/plain": [
       "<Client: scheduler='tcp://127.0.0.1:52646' processes=4 cores=4>"
      ]
     },
     "execution_count": 10,
     "metadata": {},
     "output_type": "execute_result"
    }
   ],
   "source": [
    "client = Client()\n",
    "client"
   ]
  },
  {
   "cell_type": "markdown",
   "metadata": {},
   "source": [
    "Convert dataframe to list of tuples and then a dask bag:"
   ]
  },
  {
   "cell_type": "code",
   "execution_count": 11,
   "metadata": {
    "pycharm": {
     "is_executing": true
    }
   },
   "outputs": [
    {
     "data": {
      "text/plain": [
       "dask.bag<from_se..., npartitions=5>"
      ]
     },
     "execution_count": 11,
     "metadata": {},
     "output_type": "execute_result"
    }
   ],
   "source": [
    "x = list(df.itertuples())\n",
    "x = db.from_sequence(x)\n",
    "x"
   ]
  },
  {
   "cell_type": "markdown",
   "metadata": {},
   "source": [
    "Define a function to create a dict to track the counts:"
   ]
  },
  {
   "cell_type": "code",
   "execution_count": 12,
   "metadata": {
    "pycharm": {
     "is_executing": true
    }
   },
   "outputs": [],
   "source": [
    "def f(row):\n",
    "    d = {}\n",
    "    col1, col2, col3 = row.col1, row.col2, row.col3\n",
    "    \n",
    "    d[(col1, col2)] = col3\n",
    "    \n",
    "    return d"
   ]
  },
  {
   "cell_type": "markdown",
   "metadata": {},
   "source": [
    "Define a function to combine a list of dicts:"
   ]
  },
  {
   "cell_type": "code",
   "execution_count": 13,
   "metadata": {
    "pycharm": {
     "is_executing": true
    }
   },
   "outputs": [],
   "source": [
    "def g(dict1, dict2):\n",
    "    for k, v in dict2.items():\n",
    "        dict1[k] += v\n",
    "        \n",
    "    return dict1"
   ]
  },
  {
   "cell_type": "markdown",
   "metadata": {},
   "source": [
    "Do the computation:"
   ]
  },
  {
   "cell_type": "code",
   "execution_count": 14,
   "metadata": {
    "pycharm": {
     "is_executing": true
    }
   },
   "outputs": [],
   "source": [
    "results = x \\\n",
    "    .map(f) \\\n",
    "    .fold(g, initial=defaultdict(int)) \\\n",
    "    .compute()"
   ]
  },
  {
   "cell_type": "markdown",
   "metadata": {},
   "source": [
    "Print the results:"
   ]
  },
  {
   "cell_type": "code",
   "execution_count": 15,
   "metadata": {
    "pycharm": {
     "is_executing": true
    }
   },
   "outputs": [
    {
     "name": "stdout",
     "output_type": "stream",
     "text": [
      "A, a: 6\n",
      "A, c: 4\n",
      "B, a: 1\n",
      "C, z: 1\n"
     ]
    }
   ],
   "source": [
    "for keys in sorted(results.keys()):\n",
    "    key1, key2 = keys\n",
    "    print(f\"{key1}, {key2}: {results[keys]}\")"
   ]
  },
  {
   "cell_type": "markdown",
   "metadata": {},
   "source": [
    "# Timings"
   ]
  },
  {
   "cell_type": "markdown",
   "metadata": {},
   "source": [
    "Create some data:"
   ]
  },
  {
   "cell_type": "code",
   "execution_count": 16,
   "metadata": {
    "pycharm": {
     "is_executing": true
    }
   },
   "outputs": [],
   "source": [
    "n = 3000000"
   ]
  },
  {
   "cell_type": "code",
   "execution_count": 17,
   "metadata": {
    "pycharm": {
     "is_executing": true
    }
   },
   "outputs": [],
   "source": [
    "big_df = pd.DataFrame({\n",
    "    \"col1\": np.random.choice(list(string.ascii_uppercase), n, replace=True),\n",
    "    \"col2\": np.random.choice(list(string.ascii_lowercase), n, replace=True),\n",
    "    \"col3\": np.random.randint(1, n, n)\n",
    "})"
   ]
  },
  {
   "cell_type": "markdown",
   "metadata": {},
   "source": [
    "Dask solution:"
   ]
  },
  {
   "cell_type": "code",
   "execution_count": 18,
   "metadata": {
    "pycharm": {
     "is_executing": true
    }
   },
   "outputs": [
    {
     "name": "stdout",
     "output_type": "stream",
     "text": [
      "Wall time: 2min 36s\n"
     ]
    }
   ],
   "source": [
    "%%time\n",
    "\n",
    "x = list(big_df.itertuples())\n",
    "x = db.from_sequence(x)\n",
    "\n",
    "results1 = x \\\n",
    "    .map(f) \\\n",
    "    .fold(g, initial=defaultdict(int)) \\\n",
    "    .compute()"
   ]
  },
  {
   "cell_type": "markdown",
   "metadata": {},
   "source": [
    "Pandas solution with iterrows:"
   ]
  },
  {
   "cell_type": "code",
   "execution_count": 19,
   "metadata": {
    "pycharm": {
     "is_executing": true
    }
   },
   "outputs": [
    {
     "name": "stdout",
     "output_type": "stream",
     "text": [
      "Wall time: 7min 47s\n"
     ]
    }
   ],
   "source": [
    "%%time\n",
    "\n",
    "results2 = defaultdict(lambda : defaultdict(int))\n",
    "\n",
    "for i, (col1, col2, col3) in big_df.iterrows():\n",
    "    results2[col1][col2] += col3"
   ]
  },
  {
   "cell_type": "markdown",
   "metadata": {},
   "source": [
    "Pandas solution with itertuples:"
   ]
  },
  {
   "cell_type": "code",
   "execution_count": 20,
   "metadata": {
    "pycharm": {
     "is_executing": true
    }
   },
   "outputs": [
    {
     "name": "stdout",
     "output_type": "stream",
     "text": [
      "Wall time: 7.23 s\n"
     ]
    }
   ],
   "source": [
    "%%time\n",
    "\n",
    "results3 = defaultdict(lambda : defaultdict(int))\n",
    "\n",
    "for (_, col1, col2, col3) in big_df.itertuples():\n",
    "    results3[col1][col2] += col3"
   ]
  },
  {
   "cell_type": "markdown",
   "metadata": {},
   "source": [
    "Pandas solution with custom data structure:"
   ]
  },
  {
   "cell_type": "code",
   "execution_count": 21,
   "metadata": {},
   "outputs": [
    {
     "name": "stdout",
     "output_type": "stream",
     "text": [
      "Wall time: 3.08 s\n"
     ]
    }
   ],
   "source": [
    "%%time\n",
    "\n",
    "my_rows = zip(big_df[\"col1\"], big_df[\"col2\"], big_df[\"col3\"])\n",
    "\n",
    "results4 = defaultdict(lambda : defaultdict(int))\n",
    "\n",
    "for i, (col1, col2, col3) in enumerate(my_rows):\n",
    "    results4[col1][col2] += col3"
   ]
  },
  {
   "cell_type": "markdown",
   "metadata": {},
   "source": [
    "Check all approches give identical results:"
   ]
  },
  {
   "cell_type": "code",
   "execution_count": 22,
   "metadata": {},
   "outputs": [],
   "source": [
    "for (key1, key2), value in results1.items():\n",
    "    assert results1[(key1, key2)] == results2[key1][key2]\n",
    "\n",
    "assert results2 == results3\n",
    "assert results3 == results4"
   ]
  },
  {
   "cell_type": "markdown",
   "metadata": {},
   "source": [
    "# Function Profiling"
   ]
  },
  {
   "cell_type": "markdown",
   "metadata": {},
   "source": [
    "Profile the 3 approaches with a smaller dataset:"
   ]
  },
  {
   "cell_type": "code",
   "execution_count": 23,
   "metadata": {},
   "outputs": [],
   "source": [
    "n = 1000\n",
    "\n",
    "big_df = pd.DataFrame({\n",
    "    \"col1\": np.random.choice(list(string.ascii_uppercase), n, replace=True),\n",
    "    \"col2\": np.random.choice(list(string.ascii_lowercase), n, replace=True),\n",
    "    \"col3\": np.random.randint(1, n, n)\n",
    "})"
   ]
  },
  {
   "cell_type": "markdown",
   "metadata": {},
   "source": [
    "Profile the iterrows approach:"
   ]
  },
  {
   "cell_type": "code",
   "execution_count": 24,
   "metadata": {},
   "outputs": [
    {
     "name": "stdout",
     "output_type": "stream",
     "text": [
      " "
     ]
    }
   ],
   "source": [
    "%%prun -s tottime -l 10\n",
    "\n",
    "results2 = defaultdict(lambda : defaultdict(int))\n",
    "\n",
    "for i, (col1, col2, col3) in big_df.iterrows():\n",
    "    results2[col1][col2] += col3"
   ]
  },
  {
   "cell_type": "markdown",
   "metadata": {},
   "source": [
    "Profile the itertuples approach:"
   ]
  },
  {
   "cell_type": "code",
   "execution_count": 25,
   "metadata": {},
   "outputs": [
    {
     "name": "stdout",
     "output_type": "stream",
     "text": [
      " "
     ]
    }
   ],
   "source": [
    "%%prun -s tottime -l 10\n",
    "\n",
    "results3 = defaultdict(lambda : defaultdict(int))\n",
    "\n",
    "for (_, col1, col2, col3) in big_df.itertuples():\n",
    "    results3[col1][col2] += col3"
   ]
  },
  {
   "cell_type": "markdown",
   "metadata": {},
   "source": [
    "Profile the custom approach:"
   ]
  },
  {
   "cell_type": "code",
   "execution_count": 26,
   "metadata": {},
   "outputs": [
    {
     "name": "stdout",
     "output_type": "stream",
     "text": [
      " "
     ]
    }
   ],
   "source": [
    "%%prun -s tottime -l 10\n",
    "\n",
    "my_rows = zip(big_df[\"col1\"], big_df[\"col2\"], big_df[\"col3\"])\n",
    "\n",
    "results4 = defaultdict(lambda : defaultdict(int))\n",
    "\n",
    "for i, (col1, col2, col3) in enumerate(my_rows):\n",
    "    results4[col1][col2] += col3"
   ]
  },
  {
   "cell_type": "code",
   "execution_count": null,
   "metadata": {},
   "outputs": [],
   "source": [
    "%%prun -s ncalls -l 10\n",
    "\n",
    "my_rows = zip(big_df[\"col1\"], big_df[\"col2\"], big_df[\"col3\"])\n",
    "\n",
    "results4 = defaultdict(lambda : defaultdict(int))\n",
    "\n",
    "for i, (col1, col2, col3) in enumerate(my_rows):\n",
    "    results4[col1][col2] += col3"
   ]
  },
  {
   "cell_type": "markdown",
   "metadata": {},
   "source": [
    "# Line Profiler"
   ]
  },
  {
   "cell_type": "markdown",
   "metadata": {},
   "source": [
    "Functions for the itertuples and custom approach:"
   ]
  },
  {
   "cell_type": "code",
   "execution_count": 27,
   "metadata": {},
   "outputs": [],
   "source": [
    "def itertuples_approach():\n",
    "    results3 = defaultdict(lambda : defaultdict(int))\n",
    "    \n",
    "    for (_, col1, col2, col3) in big_df.itertuples():\n",
    "        results3[col1][col2] += col3\n",
    "\n",
    "def custom_approach():\n",
    "    my_rows = zip(big_df[\"col1\"], big_df[\"col2\"], big_df[\"col3\"])\n",
    "    results4 = defaultdict(lambda : defaultdict(int))\n",
    "\n",
    "    for i, (col1, col2, col3) in enumerate(my_rows):\n",
    "        results4[col1][col2] += col3"
   ]
  },
  {
   "cell_type": "code",
   "execution_count": 28,
   "metadata": {},
   "outputs": [],
   "source": [
    "%lprun -f itertuples_approach itertuples_approach()"
   ]
  },
  {
   "cell_type": "code",
   "execution_count": 29,
   "metadata": {},
   "outputs": [],
   "source": [
    "%lprun -f custom_approach custom_approach()"
   ]
  }
 ],
 "metadata": {
  "@webio": {
   "lastCommId": null,
   "lastKernelId": null
  },
  "kernelspec": {
   "display_name": "Python 3",
   "language": "python",
   "name": "python3"
  },
  "language_info": {
   "codemirror_mode": {
    "name": "ipython",
    "version": 3
   },
   "file_extension": ".py",
   "mimetype": "text/x-python",
   "name": "python",
   "nbconvert_exporter": "python",
   "pygments_lexer": "ipython3",
   "version": "3.7.3"
  },
  "pycharm": {
   "stem_cell": {
    "cell_type": "raw",
    "metadata": {
     "collapsed": false
    },
    "source": []
   }
  },
  "toc": {
   "nav_menu": {},
   "number_sections": true,
   "sideBar": true,
   "skip_h1_title": false,
   "toc_cell": true,
   "toc_position": {},
   "toc_section_display": "block",
   "toc_window_display": true
  }
 },
 "nbformat": 4,
 "nbformat_minor": 2
}
