{
 "cells": [
  {
   "cell_type": "markdown",
   "metadata": {
    "toc": true
   },
   "source": [
    "<h1>Table of Contents<span class=\"tocSkip\"></span></h1>\n",
    "<div class=\"toc\" style=\"margin-top: 1em;\"><ul class=\"toc-item\"><li><span><a href=\"#System-Information\" data-toc-modified-id=\"System-Information-1\"><span class=\"toc-item-num\">1&nbsp;&nbsp;</span>System Information</a></span></li><li><span><a href=\"#Libraries\" data-toc-modified-id=\"Libraries-2\"><span class=\"toc-item-num\">2&nbsp;&nbsp;</span>Libraries</a></span></li><li><span><a href=\"#Data\" data-toc-modified-id=\"Data-3\"><span class=\"toc-item-num\">3&nbsp;&nbsp;</span>Data</a></span></li><li><span><a href=\"#Itertuples()-Solution\" data-toc-modified-id=\"Itertuples()-Solution-4\"><span class=\"toc-item-num\">4&nbsp;&nbsp;</span>Itertuples() Solution</a></span></li></ul></div>"
   ]
  },
  {
   "cell_type": "markdown",
   "metadata": {},
   "source": [
    "# System Information"
   ]
  },
  {
   "cell_type": "code",
   "execution_count": 1,
   "metadata": {},
   "outputs": [],
   "source": [
    "import sys"
   ]
  },
  {
   "cell_type": "code",
   "execution_count": 2,
   "metadata": {},
   "outputs": [
    {
     "data": {
      "text/plain": [
       "'3.7.3 (default, Apr 24 2019, 15:29:51) [MSC v.1915 64 bit (AMD64)]'"
      ]
     },
     "execution_count": 2,
     "metadata": {},
     "output_type": "execute_result"
    }
   ],
   "source": [
    "sys.version"
   ]
  },
  {
   "cell_type": "markdown",
   "metadata": {},
   "source": [
    "# Libraries"
   ]
  },
  {
   "cell_type": "code",
   "execution_count": 3,
   "metadata": {},
   "outputs": [],
   "source": [
    "import pandas as pd\n",
    "from collections import defaultdict\n",
    "\n",
    "import string\n",
    "import numpy as np\n",
    "\n",
    "import pstats"
   ]
  },
  {
   "cell_type": "markdown",
   "metadata": {},
   "source": [
    "# Data"
   ]
  },
  {
   "cell_type": "code",
   "execution_count": 4,
   "metadata": {},
   "outputs": [],
   "source": [
    "n = 1000"
   ]
  },
  {
   "cell_type": "code",
   "execution_count": 5,
   "metadata": {},
   "outputs": [],
   "source": [
    "big_df = pd.DataFrame({\n",
    "    \"col1\": np.random.choice(list(string.ascii_uppercase), n, replace=True),\n",
    "    \"col2\": np.random.choice(list(string.ascii_lowercase), n, replace=True),\n",
    "    \"col3\": np.random.randint(1, n, n)\n",
    "})"
   ]
  },
  {
   "cell_type": "markdown",
   "metadata": {},
   "source": [
    "# Itertuples() Solution"
   ]
  },
  {
   "cell_type": "markdown",
   "metadata": {},
   "source": [
    "Profile the solution and save its results:"
   ]
  },
  {
   "cell_type": "code",
   "execution_count": 6,
   "metadata": {},
   "outputs": [
    {
     "name": "stdout",
     "output_type": "stream",
     "text": [
      " \n",
      "*** Profile stats marshalled to file 'itertuples_stats.pstat'. \n"
     ]
    }
   ],
   "source": [
    "%%prun -D itertuples_stats.pstat\n",
    "\n",
    "results = defaultdict(lambda : defaultdict(int))\n",
    "\n",
    "for (_, col1, col2, col3) in big_df.itertuples():\n",
    "    results[col1][col2] += col3"
   ]
  },
  {
   "cell_type": "markdown",
   "metadata": {},
   "source": [
    "Read the `pstat` file:"
   ]
  },
  {
   "cell_type": "code",
   "execution_count": 7,
   "metadata": {},
   "outputs": [],
   "source": [
    "p = pstats.Stats(\"itertuples_stats.pstat\")"
   ]
  },
  {
   "cell_type": "markdown",
   "metadata": {},
   "source": [
    "Print all the stats for sorted by number of calls:"
   ]
  },
  {
   "cell_type": "code",
   "execution_count": 8,
   "metadata": {},
   "outputs": [
    {
     "name": "stdout",
     "output_type": "stream",
     "text": [
      "Sun Oct 20 01:37:52 2019    itertuples_stats.pstat\n",
      "\n",
      "         4183 function calls (4019 primitive calls) in 0.002 seconds\n",
      "\n",
      "   Ordered by: call count\n",
      "\n",
      "   ncalls  tottime  percall  cumtime  percall filename:lineno(function)\n",
      "1063/1052    0.000    0.000    0.000    0.000 {built-in method builtins.len}\n",
      "     1000    0.001    0.000    0.001    0.000 __init__.py:403(_make)\n",
      "     1000    0.000    0.000    0.000    0.000 {built-in method __new__ of type object at 0x00007FF9CCCA6BA0}\n",
      "      180    0.000    0.000    0.000    0.000 {built-in method builtins.isinstance}\n",
      "     79/3    0.000    0.000    0.000    0.000 abc.py:141(__subclasscheck__)\n",
      "     79/3    0.000    0.000    0.000    0.000 {built-in method _abc._abc_subclasscheck}\n",
      "       60    0.000    0.000    0.000    0.000 {built-in method builtins.getattr}\n",
      "       56    0.000    0.000    0.000    0.000 _collections_abc.py:392(__subclasshook__)\n",
      "       41    0.000    0.000    0.000    0.000 generic.py:7(_check)\n",
      "       26    0.000    0.000    0.000    0.000 <string>:1(<lambda>)\n",
      "       18    0.000    0.000    0.000    0.000 abc.py:137(__instancecheck__)\n",
      "       18    0.000    0.000    0.000    0.000 inference.py:253(is_list_like)\n",
      "       18    0.000    0.000    0.000    0.000 {built-in method _abc._abc_instancecheck}\n",
      "       17    0.000    0.000    0.000    0.000 {built-in method builtins.issubclass}\n",
      "       14    0.000    0.000    0.000    0.000 _collections_abc.py:302(__subclasshook__)\n",
      "       13    0.000    0.000    0.000    0.000 {built-in method builtins.hasattr}\n",
      "       12    0.000    0.000    0.000    0.000 generic.py:450(ndim)\n",
      "       12    0.000    0.000    0.000    0.000 blocks.py:165(internal_values)\n",
      "       12    0.000    0.000    0.000    0.000 managers.py:143(ndim)\n",
      "       12    0.000    0.000    0.000    0.000 managers.py:1488(_block)\n",
      "       12    0.000    0.000    0.000    0.000 managers.py:1549(internal_values)\n",
      "       12    0.000    0.000    0.000    0.000 series.py:476(_values)\n",
      "       11    0.000    0.000    0.000    0.000 _collections_abc.py:72(_check_methods)\n",
      "       10    0.000    0.000    0.000    0.000 common.py:119(<lambda>)\n",
      "       10    0.000    0.000    0.000    0.000 common.py:117(classes)\n",
      "       10    0.000    0.000    0.000    0.000 common.py:1845(_is_dtype_type)\n",
      "       10    0.000    0.000    0.000    0.000 common.py:1981(pandas_dtype)\n",
      "       10    0.000    0.000    0.000    0.000 {method 'get' of 'dict' objects}\n",
      "        9    0.000    0.000    0.000    0.000 inference.py:304(is_array_like)\n",
      "        9    0.000    0.000    0.000    0.000 common.py:93(is_bool_indexer)\n",
      "        9    0.000    0.000    0.000    0.000 base.py:652(__len__)\n",
      "        9    0.000    0.000    0.000    0.000 generic.py:363(_get_axis_name)\n",
      "        9    0.000    0.000    0.000    0.000 generic.py:377(_get_axis)\n",
      "        9    0.000    0.000    0.000    0.000 indexing.py:230(<genexpr>)\n",
      "        9    0.000    0.000    0.000    0.000 indexing.py:1487(<genexpr>)\n",
      "        9    0.000    0.000    0.000    0.000 indexing.py:2689(is_list_like_indexer)\n",
      "        9    0.000    0.000    0.000    0.000 {method '__contains__' of 'frozenset' objects}\n",
      "        9    0.000    0.000    0.000    0.000 {method 'isidentifier' of 'str' objects}\n",
      "        9    0.000    0.000    0.000    0.000 {pandas._libs.lib.is_integer}\n",
      "        8    0.000    0.000    0.000    0.000 base.py:3632(_values)\n",
      "        8    0.000    0.000    0.000    0.000 {method 'add' of 'set' objects}\n",
      "        8    0.000    0.000    0.000    0.000 {method 'startswith' of 'str' objects}\n",
      "        6    0.000    0.000    0.000    0.000 common.py:316(apply_if_callable)\n",
      "        6    0.000    0.000    0.000    0.000 generic.py:5069(__setattr__)\n",
      "        6    0.000    0.000    0.000    0.000 range.py:510(__len__)\n",
      "        6    0.000    0.000    0.000    0.000 indexing.py:2056(_validate_key)\n",
      "        6    0.000    0.000    0.000    0.000 indexing.py:2116(_validate_integer)\n",
      "        6    0.000    0.000    0.000    0.000 indexing.py:2695(is_label_like)\n",
      "        6    0.000    0.000    0.000    0.000 {built-in method builtins.callable}\n",
      "        6    0.000    0.000    0.000    0.000 {built-in method builtins.max}\n",
      "        5    0.000    0.000    0.000    0.000 __init__.py:388(<genexpr>)\n",
      "        5    0.000    0.000    0.000    0.000 common.py:403(is_datetime64_dtype)\n",
      "        5    0.000    0.000    0.000    0.000 common.py:434(is_datetime64tz_dtype)\n",
      "        5    0.000    0.000    0.000    0.000 common.py:472(is_timedelta64_dtype)\n",
      "        5    0.000    0.000    0.000    0.000 common.py:702(is_datetimelike)\n",
      "        5    0.000    0.000    0.000    0.000 common.py:1702(is_extension_array_dtype)\n",
      "        5    0.000    0.000    0.000    0.000 dtypes.py:68(find)\n",
      "        5    0.000    0.000    0.000    0.000 base.py:75(is_dtype)\n",
      "        5    0.000    0.000    0.000    0.000 base.py:1117(__iter__)\n",
      "        4    0.000    0.000    0.001    0.000 frame.py:919(<genexpr>)\n",
      "        3    0.000    0.000    0.000    0.000 _collections_abc.py:252(__subclasshook__)\n",
      "        3    0.000    0.000    0.000    0.000 inference.py:438(is_hashable)\n",
      "        3    0.000    0.000    0.000    0.000 common.py:144(cast_scalar_indexer)\n",
      "        3    0.000    0.000    0.000    0.000 common.py:279(is_null_slice)\n",
      "        3    0.000    0.000    0.000    0.000 base.py:704(ndim)\n",
      "        3    0.000    0.000    0.000    0.000 base.py:3940(__getitem__)\n",
      "        3    0.000    0.000    0.000    0.000 base.py:5318(ensure_index)\n",
      "        3    0.000    0.000    0.000    0.000 frame.py:474(axes)\n",
      "        3    0.000    0.000    0.000    0.000 frame.py:2829(_ixs)\n",
      "        3    0.000    0.000    0.000    0.000 frame.py:3349(_box_col_values)\n",
      "        3    0.000    0.000    0.000    0.000 generic.py:127(__init__)\n",
      "        3    0.000    0.000    0.000    0.000 generic.py:3070(_set_as_cached)\n",
      "        3    0.000    0.000    0.000    0.000 generic.py:5053(__getattr__)\n",
      "        3    0.000    0.000    0.000    0.000 numeric.py:113(is_all_dates)\n",
      "        3    0.000    0.000    0.000    0.000 indexing.py:143(_get_loc)\n",
      "        3    0.000    0.000    0.000    0.000 indexing.py:217(_has_valid_tuple)\n",
      "        3    0.000    0.000    0.000    0.000 indexing.py:229(_is_nested_tuple_indexer)\n",
      "        3    0.000    0.000    0.000    0.000 indexing.py:960(_getitem_lowerdim)\n",
      "        3    0.000    0.000    0.000    0.000 blocks.py:78(__init__)\n",
      "        3    0.000    0.000    0.000    0.000 blocks.py:89(_check_ndim)\n",
      "        3    0.000    0.000    0.001    0.000 indexing.py:1485(__getitem__)\n",
      "        3    0.000    0.000    0.000    0.000 indexing.py:2089(_is_scalar_access)\n",
      "        3    0.000    0.000    0.001    0.000 indexing.py:2141(_getitem_tuple)\n",
      "        3    0.000    0.000    0.000    0.000 indexing.py:2205(_getitem_axis)\n",
      "        3    0.000    0.000    0.000    0.000 blocks.py:195(mgr_locs)\n",
      "        3    0.000    0.000    0.000    0.000 blocks.py:199(mgr_locs)\n",
      "        3    0.000    0.000    0.000    0.000 blocks.py:225(make_block_same_class)\n",
      "        3    0.000    0.000    0.000    0.000 blocks.py:332(iget)\n",
      "        3    0.000    0.000    0.000    0.000 managers.py:206(items)\n",
      "        3    0.000    0.000    0.000    0.000 blocks.py:3080(make_block)\n",
      "        3    0.000    0.000    0.000    0.000 managers.py:291(__len__)\n",
      "        3    0.000    0.000    0.000    0.000 managers.py:963(iget)\n",
      "        3    0.000    0.000    0.000    0.000 managers.py:1443(__init__)\n",
      "        3    0.000    0.000    0.000    0.000 series.py:152(__init__)\n",
      "        3    0.000    0.000    0.000    0.000 series.py:354(_set_axis)\n",
      "        3    0.000    0.000    0.000    0.000 series.py:382(_set_subtyp)\n",
      "        3    0.000    0.000    0.000    0.000 series.py:392(name)\n",
      "        3    0.000    0.000    0.000    0.000 series.py:399(name)\n",
      "        3    0.000    0.000    0.000    0.000 {built-in method builtins.any}\n",
      "        3    0.000    0.000    0.000    0.000 {built-in method builtins.hash}\n",
      "        3    0.000    0.000    0.000    0.000 {pandas._libs.lib.is_scalar}\n",
      "        3    0.000    0.000    0.000    0.000 {pandas._libs.lib.is_float}\n",
      "        2    0.000    0.000    0.000    0.000 _collections_abc.py:271(__subclasshook__)\n",
      "        2    0.000    0.000    0.000    0.000 _collections_abc.py:349(__subclasshook__)\n",
      "        2    0.000    0.000    0.000    0.000 blocks.py:2626(__init__)\n",
      "      2/1    0.000    0.000    0.003    0.003 {built-in method builtins.exec}\n",
      "        1    0.000    0.000    0.000    0.000 __init__.py:316(namedtuple)\n",
      "        1    0.000    0.000    0.001    0.001 frame.py:849(itertuples)\n",
      "        1    0.000    0.000    0.000    0.000 range.py:176(_data)\n",
      "        1    0.000    0.000    0.000    0.000 <string>:1(<module>)\n",
      "        1    0.000    0.000    0.000    0.000 {method 'append' of 'list' objects}\n",
      "        1    0.000    0.000    0.000    0.000 {method 'insert' of 'list' objects}\n",
      "        1    0.000    0.000    0.001    0.001 {method 'extend' of 'list' objects}\n",
      "        1    0.000    0.000    0.000    0.000 {method 'replace' of 'str' objects}\n",
      "        1    0.000    0.000    0.000    0.000 {method 'join' of 'str' objects}\n",
      "        1    0.000    0.000    0.000    0.000 {built-in method builtins.repr}\n",
      "        1    0.000    0.000    0.000    0.000 {built-in method sys._getframe}\n",
      "        1    0.000    0.000    0.000    0.000 {built-in method sys.intern}\n",
      "        1    0.000    0.000    0.000    0.000 {method 'disable' of '_lsprof.Profiler' objects}\n",
      "        1    0.000    0.000    0.000    0.000 {built-in method numpy.arange}\n",
      "\n",
      "\n"
     ]
    },
    {
     "data": {
      "text/plain": [
       "<pstats.Stats at 0x187beb3bb70>"
      ]
     },
     "execution_count": 8,
     "metadata": {},
     "output_type": "execute_result"
    }
   ],
   "source": [
    "p.strip_dirs() \\\n",
    " .sort_stats(pstats.SortKey.CALLS) \\\n",
    " .print_stats()"
   ]
  },
  {
   "cell_type": "markdown",
   "metadata": {},
   "source": [
    "Who is calling `_make` 1,000 times?"
   ]
  },
  {
   "cell_type": "code",
   "execution_count": 9,
   "metadata": {},
   "outputs": [
    {
     "name": "stdout",
     "output_type": "stream",
     "text": [
      "   Ordered by: call count\n",
      "   List reduced from 120 to 1 due to restriction <'_make'>\n",
      "\n",
      "Function                was called by...\n",
      "                            ncalls  tottime  cumtime\n",
      "__init__.py:403(_make)  <-    1000    0.001    0.001  <string>:1(<module>)\n",
      "\n",
      "\n"
     ]
    },
    {
     "data": {
      "text/plain": [
       "<pstats.Stats at 0x187beb3bb70>"
      ]
     },
     "execution_count": 9,
     "metadata": {},
     "output_type": "execute_result"
    }
   ],
   "source": [
    "p.print_callers(\"_make\")"
   ]
  },
  {
   "cell_type": "markdown",
   "metadata": {},
   "source": [
    "Who does `_make` call?"
   ]
  },
  {
   "cell_type": "code",
   "execution_count": 10,
   "metadata": {},
   "outputs": [
    {
     "name": "stdout",
     "output_type": "stream",
     "text": [
      "   Ordered by: call count\n",
      "   List reduced from 120 to 1 due to restriction <'_make'>\n",
      "\n",
      "Function                called...\n",
      "                            ncalls  tottime  cumtime\n",
      "__init__.py:403(_make)  ->    1000    0.000    0.000  {built-in method __new__ of type object at 0x00007FF9CCCA6BA0}\n",
      "                              1000    0.000    0.000  {built-in method builtins.len}\n",
      "\n",
      "\n"
     ]
    },
    {
     "data": {
      "text/plain": [
       "<pstats.Stats at 0x187beb3bb70>"
      ]
     },
     "execution_count": 10,
     "metadata": {},
     "output_type": "execute_result"
    }
   ],
   "source": [
    "p.print_callees(\"_make\")"
   ]
  }
 ],
 "metadata": {
  "@webio": {
   "lastCommId": null,
   "lastKernelId": null
  },
  "kernelspec": {
   "display_name": "Python 3",
   "language": "python",
   "name": "python3"
  },
  "language_info": {
   "codemirror_mode": {
    "name": "ipython",
    "version": 3
   },
   "file_extension": ".py",
   "mimetype": "text/x-python",
   "name": "python",
   "nbconvert_exporter": "python",
   "pygments_lexer": "ipython3",
   "version": "3.7.3"
  },
  "toc": {
   "nav_menu": {},
   "number_sections": true,
   "sideBar": true,
   "skip_h1_title": false,
   "toc_cell": true,
   "toc_position": {},
   "toc_section_display": "block",
   "toc_window_display": true
  }
 },
 "nbformat": 4,
 "nbformat_minor": 2
}
